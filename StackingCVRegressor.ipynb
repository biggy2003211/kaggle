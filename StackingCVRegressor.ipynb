{
 "cells": [
  {
   "cell_type": "markdown",
   "metadata": {},
   "source": [
    "# 載入相關套件"
   ]
  },
  {
   "cell_type": "code",
   "execution_count": 1,
   "metadata": {},
   "outputs": [],
   "source": [
    "#import some necessary librairies\n",
    "\n",
    "import numpy as np # linear algebra\n",
    "import pandas as pd # data processing, CSV file I/O (e.g. pd.read_csv)\n",
    "%matplotlib inline\n",
    "import matplotlib.pyplot as plt  # Matlab-style plotting\n",
    "import seaborn as sns\n",
    "color = sns.color_palette()\n",
    "sns.set_style('darkgrid')\n",
    "import warnings\n",
    "def ignore_warn(*args, **kwargs):\n",
    "    pass\n",
    "warnings.warn = ignore_warn #ignore annoying warning (from sklearn and seaborn)\n",
    "\n",
    "\n",
    "from scipy import stats\n",
    "from scipy.stats import norm, skew #for some statistics\n",
    "\n",
    "\n",
    "pd.set_option('display.float_format', lambda x: '{:.3f}'.format(x)) #Limiting floats output to 3 decimal points\n",
    "\n",
    "from sklearn.preprocessing import LabelEncoder, MinMaxScaler"
   ]
  },
  {
   "cell_type": "code",
   "execution_count": 2,
   "metadata": {},
   "outputs": [],
   "source": [
    "import warnings\n",
    "warnings.simplefilter('ignore')"
   ]
  },
  {
   "cell_type": "markdown",
   "metadata": {},
   "source": [
    "# 讀取資料"
   ]
  },
  {
   "cell_type": "code",
   "execution_count": 3,
   "metadata": {},
   "outputs": [],
   "source": [
    "#Now let's import and put the train and test datasets in  pandas dataframe\n",
    "\n",
    "train = pd.read_csv('../input/train.csv')\n",
    "test = pd.read_csv('../input/test.csv')"
   ]
  },
  {
   "cell_type": "markdown",
   "metadata": {},
   "source": [
    "# 觀察 train 資料集"
   ]
  },
  {
   "cell_type": "code",
   "execution_count": 4,
   "metadata": {},
   "outputs": [
    {
     "data": {
      "text/html": [
       "<div>\n",
       "<style scoped>\n",
       "    .dataframe tbody tr th:only-of-type {\n",
       "        vertical-align: middle;\n",
       "    }\n",
       "\n",
       "    .dataframe tbody tr th {\n",
       "        vertical-align: top;\n",
       "    }\n",
       "\n",
       "    .dataframe thead th {\n",
       "        text-align: right;\n",
       "    }\n",
       "</style>\n",
       "<table border=\"1\" class=\"dataframe\">\n",
       "  <thead>\n",
       "    <tr style=\"text-align: right;\">\n",
       "      <th></th>\n",
       "      <th>Id</th>\n",
       "      <th>MSSubClass</th>\n",
       "      <th>MSZoning</th>\n",
       "      <th>LotFrontage</th>\n",
       "      <th>LotArea</th>\n",
       "      <th>Street</th>\n",
       "      <th>Alley</th>\n",
       "      <th>LotShape</th>\n",
       "      <th>LandContour</th>\n",
       "      <th>Utilities</th>\n",
       "      <th>...</th>\n",
       "      <th>PoolArea</th>\n",
       "      <th>PoolQC</th>\n",
       "      <th>Fence</th>\n",
       "      <th>MiscFeature</th>\n",
       "      <th>MiscVal</th>\n",
       "      <th>MoSold</th>\n",
       "      <th>YrSold</th>\n",
       "      <th>SaleType</th>\n",
       "      <th>SaleCondition</th>\n",
       "      <th>SalePrice</th>\n",
       "    </tr>\n",
       "  </thead>\n",
       "  <tbody>\n",
       "    <tr>\n",
       "      <th>0</th>\n",
       "      <td>1</td>\n",
       "      <td>60</td>\n",
       "      <td>RL</td>\n",
       "      <td>65.000</td>\n",
       "      <td>8450</td>\n",
       "      <td>Pave</td>\n",
       "      <td>NaN</td>\n",
       "      <td>Reg</td>\n",
       "      <td>Lvl</td>\n",
       "      <td>AllPub</td>\n",
       "      <td>...</td>\n",
       "      <td>0</td>\n",
       "      <td>NaN</td>\n",
       "      <td>NaN</td>\n",
       "      <td>NaN</td>\n",
       "      <td>0</td>\n",
       "      <td>2</td>\n",
       "      <td>2008</td>\n",
       "      <td>WD</td>\n",
       "      <td>Normal</td>\n",
       "      <td>208500</td>\n",
       "    </tr>\n",
       "    <tr>\n",
       "      <th>1</th>\n",
       "      <td>2</td>\n",
       "      <td>20</td>\n",
       "      <td>RL</td>\n",
       "      <td>80.000</td>\n",
       "      <td>9600</td>\n",
       "      <td>Pave</td>\n",
       "      <td>NaN</td>\n",
       "      <td>Reg</td>\n",
       "      <td>Lvl</td>\n",
       "      <td>AllPub</td>\n",
       "      <td>...</td>\n",
       "      <td>0</td>\n",
       "      <td>NaN</td>\n",
       "      <td>NaN</td>\n",
       "      <td>NaN</td>\n",
       "      <td>0</td>\n",
       "      <td>5</td>\n",
       "      <td>2007</td>\n",
       "      <td>WD</td>\n",
       "      <td>Normal</td>\n",
       "      <td>181500</td>\n",
       "    </tr>\n",
       "    <tr>\n",
       "      <th>2</th>\n",
       "      <td>3</td>\n",
       "      <td>60</td>\n",
       "      <td>RL</td>\n",
       "      <td>68.000</td>\n",
       "      <td>11250</td>\n",
       "      <td>Pave</td>\n",
       "      <td>NaN</td>\n",
       "      <td>IR1</td>\n",
       "      <td>Lvl</td>\n",
       "      <td>AllPub</td>\n",
       "      <td>...</td>\n",
       "      <td>0</td>\n",
       "      <td>NaN</td>\n",
       "      <td>NaN</td>\n",
       "      <td>NaN</td>\n",
       "      <td>0</td>\n",
       "      <td>9</td>\n",
       "      <td>2008</td>\n",
       "      <td>WD</td>\n",
       "      <td>Normal</td>\n",
       "      <td>223500</td>\n",
       "    </tr>\n",
       "    <tr>\n",
       "      <th>3</th>\n",
       "      <td>4</td>\n",
       "      <td>70</td>\n",
       "      <td>RL</td>\n",
       "      <td>60.000</td>\n",
       "      <td>9550</td>\n",
       "      <td>Pave</td>\n",
       "      <td>NaN</td>\n",
       "      <td>IR1</td>\n",
       "      <td>Lvl</td>\n",
       "      <td>AllPub</td>\n",
       "      <td>...</td>\n",
       "      <td>0</td>\n",
       "      <td>NaN</td>\n",
       "      <td>NaN</td>\n",
       "      <td>NaN</td>\n",
       "      <td>0</td>\n",
       "      <td>2</td>\n",
       "      <td>2006</td>\n",
       "      <td>WD</td>\n",
       "      <td>Abnorml</td>\n",
       "      <td>140000</td>\n",
       "    </tr>\n",
       "    <tr>\n",
       "      <th>4</th>\n",
       "      <td>5</td>\n",
       "      <td>60</td>\n",
       "      <td>RL</td>\n",
       "      <td>84.000</td>\n",
       "      <td>14260</td>\n",
       "      <td>Pave</td>\n",
       "      <td>NaN</td>\n",
       "      <td>IR1</td>\n",
       "      <td>Lvl</td>\n",
       "      <td>AllPub</td>\n",
       "      <td>...</td>\n",
       "      <td>0</td>\n",
       "      <td>NaN</td>\n",
       "      <td>NaN</td>\n",
       "      <td>NaN</td>\n",
       "      <td>0</td>\n",
       "      <td>12</td>\n",
       "      <td>2008</td>\n",
       "      <td>WD</td>\n",
       "      <td>Normal</td>\n",
       "      <td>250000</td>\n",
       "    </tr>\n",
       "  </tbody>\n",
       "</table>\n",
       "<p>5 rows × 81 columns</p>\n",
       "</div>"
      ],
      "text/plain": [
       "   Id  MSSubClass MSZoning  LotFrontage  LotArea Street Alley LotShape  \\\n",
       "0   1          60       RL       65.000     8450   Pave   NaN      Reg   \n",
       "1   2          20       RL       80.000     9600   Pave   NaN      Reg   \n",
       "2   3          60       RL       68.000    11250   Pave   NaN      IR1   \n",
       "3   4          70       RL       60.000     9550   Pave   NaN      IR1   \n",
       "4   5          60       RL       84.000    14260   Pave   NaN      IR1   \n",
       "\n",
       "  LandContour Utilities    ...     PoolArea PoolQC Fence MiscFeature MiscVal  \\\n",
       "0         Lvl    AllPub    ...            0    NaN   NaN         NaN       0   \n",
       "1         Lvl    AllPub    ...            0    NaN   NaN         NaN       0   \n",
       "2         Lvl    AllPub    ...            0    NaN   NaN         NaN       0   \n",
       "3         Lvl    AllPub    ...            0    NaN   NaN         NaN       0   \n",
       "4         Lvl    AllPub    ...            0    NaN   NaN         NaN       0   \n",
       "\n",
       "  MoSold YrSold  SaleType  SaleCondition  SalePrice  \n",
       "0      2   2008        WD         Normal     208500  \n",
       "1      5   2007        WD         Normal     181500  \n",
       "2      9   2008        WD         Normal     223500  \n",
       "3      2   2006        WD        Abnorml     140000  \n",
       "4     12   2008        WD         Normal     250000  \n",
       "\n",
       "[5 rows x 81 columns]"
      ]
     },
     "execution_count": 4,
     "metadata": {},
     "output_type": "execute_result"
    }
   ],
   "source": [
    "##display the first five rows of the train dataset.\n",
    "train.head(5)"
   ]
  },
  {
   "cell_type": "markdown",
   "metadata": {},
   "source": [
    "81個欄位，包含 Id 欄位"
   ]
  },
  {
   "cell_type": "markdown",
   "metadata": {},
   "source": [
    "# 觀察 tset 資料集"
   ]
  },
  {
   "cell_type": "code",
   "execution_count": 5,
   "metadata": {},
   "outputs": [
    {
     "data": {
      "text/html": [
       "<div>\n",
       "<style scoped>\n",
       "    .dataframe tbody tr th:only-of-type {\n",
       "        vertical-align: middle;\n",
       "    }\n",
       "\n",
       "    .dataframe tbody tr th {\n",
       "        vertical-align: top;\n",
       "    }\n",
       "\n",
       "    .dataframe thead th {\n",
       "        text-align: right;\n",
       "    }\n",
       "</style>\n",
       "<table border=\"1\" class=\"dataframe\">\n",
       "  <thead>\n",
       "    <tr style=\"text-align: right;\">\n",
       "      <th></th>\n",
       "      <th>Id</th>\n",
       "      <th>MSSubClass</th>\n",
       "      <th>MSZoning</th>\n",
       "      <th>LotFrontage</th>\n",
       "      <th>LotArea</th>\n",
       "      <th>Street</th>\n",
       "      <th>Alley</th>\n",
       "      <th>LotShape</th>\n",
       "      <th>LandContour</th>\n",
       "      <th>Utilities</th>\n",
       "      <th>...</th>\n",
       "      <th>ScreenPorch</th>\n",
       "      <th>PoolArea</th>\n",
       "      <th>PoolQC</th>\n",
       "      <th>Fence</th>\n",
       "      <th>MiscFeature</th>\n",
       "      <th>MiscVal</th>\n",
       "      <th>MoSold</th>\n",
       "      <th>YrSold</th>\n",
       "      <th>SaleType</th>\n",
       "      <th>SaleCondition</th>\n",
       "    </tr>\n",
       "  </thead>\n",
       "  <tbody>\n",
       "    <tr>\n",
       "      <th>0</th>\n",
       "      <td>1461</td>\n",
       "      <td>20</td>\n",
       "      <td>RH</td>\n",
       "      <td>80.000</td>\n",
       "      <td>11622</td>\n",
       "      <td>Pave</td>\n",
       "      <td>NaN</td>\n",
       "      <td>Reg</td>\n",
       "      <td>Lvl</td>\n",
       "      <td>AllPub</td>\n",
       "      <td>...</td>\n",
       "      <td>120</td>\n",
       "      <td>0</td>\n",
       "      <td>NaN</td>\n",
       "      <td>MnPrv</td>\n",
       "      <td>NaN</td>\n",
       "      <td>0</td>\n",
       "      <td>6</td>\n",
       "      <td>2010</td>\n",
       "      <td>WD</td>\n",
       "      <td>Normal</td>\n",
       "    </tr>\n",
       "    <tr>\n",
       "      <th>1</th>\n",
       "      <td>1462</td>\n",
       "      <td>20</td>\n",
       "      <td>RL</td>\n",
       "      <td>81.000</td>\n",
       "      <td>14267</td>\n",
       "      <td>Pave</td>\n",
       "      <td>NaN</td>\n",
       "      <td>IR1</td>\n",
       "      <td>Lvl</td>\n",
       "      <td>AllPub</td>\n",
       "      <td>...</td>\n",
       "      <td>0</td>\n",
       "      <td>0</td>\n",
       "      <td>NaN</td>\n",
       "      <td>NaN</td>\n",
       "      <td>Gar2</td>\n",
       "      <td>12500</td>\n",
       "      <td>6</td>\n",
       "      <td>2010</td>\n",
       "      <td>WD</td>\n",
       "      <td>Normal</td>\n",
       "    </tr>\n",
       "    <tr>\n",
       "      <th>2</th>\n",
       "      <td>1463</td>\n",
       "      <td>60</td>\n",
       "      <td>RL</td>\n",
       "      <td>74.000</td>\n",
       "      <td>13830</td>\n",
       "      <td>Pave</td>\n",
       "      <td>NaN</td>\n",
       "      <td>IR1</td>\n",
       "      <td>Lvl</td>\n",
       "      <td>AllPub</td>\n",
       "      <td>...</td>\n",
       "      <td>0</td>\n",
       "      <td>0</td>\n",
       "      <td>NaN</td>\n",
       "      <td>MnPrv</td>\n",
       "      <td>NaN</td>\n",
       "      <td>0</td>\n",
       "      <td>3</td>\n",
       "      <td>2010</td>\n",
       "      <td>WD</td>\n",
       "      <td>Normal</td>\n",
       "    </tr>\n",
       "    <tr>\n",
       "      <th>3</th>\n",
       "      <td>1464</td>\n",
       "      <td>60</td>\n",
       "      <td>RL</td>\n",
       "      <td>78.000</td>\n",
       "      <td>9978</td>\n",
       "      <td>Pave</td>\n",
       "      <td>NaN</td>\n",
       "      <td>IR1</td>\n",
       "      <td>Lvl</td>\n",
       "      <td>AllPub</td>\n",
       "      <td>...</td>\n",
       "      <td>0</td>\n",
       "      <td>0</td>\n",
       "      <td>NaN</td>\n",
       "      <td>NaN</td>\n",
       "      <td>NaN</td>\n",
       "      <td>0</td>\n",
       "      <td>6</td>\n",
       "      <td>2010</td>\n",
       "      <td>WD</td>\n",
       "      <td>Normal</td>\n",
       "    </tr>\n",
       "    <tr>\n",
       "      <th>4</th>\n",
       "      <td>1465</td>\n",
       "      <td>120</td>\n",
       "      <td>RL</td>\n",
       "      <td>43.000</td>\n",
       "      <td>5005</td>\n",
       "      <td>Pave</td>\n",
       "      <td>NaN</td>\n",
       "      <td>IR1</td>\n",
       "      <td>HLS</td>\n",
       "      <td>AllPub</td>\n",
       "      <td>...</td>\n",
       "      <td>144</td>\n",
       "      <td>0</td>\n",
       "      <td>NaN</td>\n",
       "      <td>NaN</td>\n",
       "      <td>NaN</td>\n",
       "      <td>0</td>\n",
       "      <td>1</td>\n",
       "      <td>2010</td>\n",
       "      <td>WD</td>\n",
       "      <td>Normal</td>\n",
       "    </tr>\n",
       "  </tbody>\n",
       "</table>\n",
       "<p>5 rows × 80 columns</p>\n",
       "</div>"
      ],
      "text/plain": [
       "     Id  MSSubClass MSZoning  LotFrontage  LotArea Street Alley LotShape  \\\n",
       "0  1461          20       RH       80.000    11622   Pave   NaN      Reg   \n",
       "1  1462          20       RL       81.000    14267   Pave   NaN      IR1   \n",
       "2  1463          60       RL       74.000    13830   Pave   NaN      IR1   \n",
       "3  1464          60       RL       78.000     9978   Pave   NaN      IR1   \n",
       "4  1465         120       RL       43.000     5005   Pave   NaN      IR1   \n",
       "\n",
       "  LandContour Utilities      ...       ScreenPorch PoolArea PoolQC  Fence  \\\n",
       "0         Lvl    AllPub      ...               120        0    NaN  MnPrv   \n",
       "1         Lvl    AllPub      ...                 0        0    NaN    NaN   \n",
       "2         Lvl    AllPub      ...                 0        0    NaN  MnPrv   \n",
       "3         Lvl    AllPub      ...                 0        0    NaN    NaN   \n",
       "4         HLS    AllPub      ...               144        0    NaN    NaN   \n",
       "\n",
       "  MiscFeature MiscVal MoSold  YrSold  SaleType  SaleCondition  \n",
       "0         NaN       0      6    2010        WD         Normal  \n",
       "1        Gar2   12500      6    2010        WD         Normal  \n",
       "2         NaN       0      3    2010        WD         Normal  \n",
       "3         NaN       0      6    2010        WD         Normal  \n",
       "4         NaN       0      1    2010        WD         Normal  \n",
       "\n",
       "[5 rows x 80 columns]"
      ]
     },
     "execution_count": 5,
     "metadata": {},
     "output_type": "execute_result"
    }
   ],
   "source": [
    "##display the first five rows of the train dataset.\n",
    "test.head(5)"
   ]
  },
  {
   "cell_type": "markdown",
   "metadata": {},
   "source": [
    "80個欄位，包含 Id 欄位，房價(SalePrice)未知"
   ]
  },
  {
   "cell_type": "markdown",
   "metadata": {},
   "source": [
    "# 刪除 Id 欄位"
   ]
  },
  {
   "cell_type": "code",
   "execution_count": 6,
   "metadata": {},
   "outputs": [
    {
     "name": "stdout",
     "output_type": "stream",
     "text": [
      "The train data size before dropping Id feature is : (1460, 81) \n",
      "The test data size before dropping Id feature is : (1459, 80) \n",
      "\n",
      "The train data size after dropping Id feature is : (1460, 80) \n",
      "The test data size after dropping Id feature is : (1459, 79) \n"
     ]
    }
   ],
   "source": [
    "#check the numbers of samples and features\n",
    "print(\"The train data size before dropping Id feature is : {} \".format(train.shape))\n",
    "print(\"The test data size before dropping Id feature is : {} \".format(test.shape))\n",
    "\n",
    "#Save the 'Id' column\n",
    "train_ID = train['Id']\n",
    "test_ID = test['Id']\n",
    "\n",
    "#Now drop the  'Id' colum since it's unnecessary for  the prediction process.\n",
    "train.drop(\"Id\", axis = 1, inplace = True)\n",
    "test.drop(\"Id\", axis = 1, inplace = True)\n",
    "\n",
    "#check again the data size after dropping the 'Id' variable\n",
    "print(\"\\nThe train data size after dropping Id feature is : {} \".format(train.shape)) \n",
    "print(\"The test data size after dropping Id feature is : {} \".format(test.shape))"
   ]
  },
  {
   "cell_type": "markdown",
   "metadata": {},
   "source": [
    "# 資料預處理"
   ]
  },
  {
   "cell_type": "markdown",
   "metadata": {},
   "source": [
    "* GrLivArea 與 SalePrice 之間存在異常值\n",
    ">\n",
    "> 理論上 GrLivArea (面積範圍) 因與 SalePrice (房價) 成正比\n"
   ]
  },
  {
   "cell_type": "code",
   "execution_count": 7,
   "metadata": {},
   "outputs": [
    {
     "data": {
      "image/png": "[encoded data removed]",
      "text/plain": [
       "<Figure size 432x288 with 1 Axes>"
      ]
     },
     "metadata": {
      "needs_background": "light"
     },
     "output_type": "display_data"
    }
   ],
   "source": [
    "f, ax = plt.subplots()\n",
    "plt.scatter(x=train['GrLivArea'],y=train['SalePrice'])\n",
    "plt.xlabel(\"GrLivArea\", fontsize=15)\n",
    "plt.ylabel(\"SalePrice\", fontsize=15)\n",
    "plt.show()"
   ]
  },
  {
   "cell_type": "markdown",
   "metadata": {},
   "source": [
    "* 刪除異常值"
   ]
  },
  {
   "cell_type": "code",
   "execution_count": 8,
   "metadata": {},
   "outputs": [],
   "source": [
    "train = train.drop(train[(train['GrLivArea'] > 4000) & (train['SalePrice'] < 300000)].index)"
   ]
  },
  {
   "cell_type": "markdown",
   "metadata": {},
   "source": [
    "# 觀察資料的分布情形"
   ]
  },
  {
   "cell_type": "code",
   "execution_count": 9,
   "metadata": {},
   "outputs": [
    {
     "name": "stdout",
     "output_type": "stream",
     "text": [
      "\n",
      " mu = 180932.92 and sigma = 79467.79\n",
      "\n"
     ]
    },
    {
     "data": {
      "image/png": "[encoded data removed]",
      "text/plain": [
       "<Figure size 432x288 with 1 Axes>"
      ]
     },
     "metadata": {
      "needs_background": "light"
     },
     "output_type": "display_data"
    }
   ],
   "source": [
    "sns.distplot(train['SalePrice'] , fit=norm)\n",
    "\n",
    "# Get the fitted parameters used by the function\n",
    "(mu, sigma) = norm.fit(train['SalePrice'])\n",
    "print( '\\n mu = {:.2f} and sigma = {:.2f}\\n'.format(mu, sigma))\n",
    "\n",
    "#Now plot the distribution\n",
    "plt.legend(['Normal dist. ($\\mu=$ {:.2f} and $\\sigma=$ {:.2f} )'.format(mu, sigma)],\n",
    "            loc='best')\n",
    "plt.ylabel('Frequency')\n",
    "plt.title('SalePrice distribution')\n",
    "\n",
    "plt.show()"
   ]
  },
  {
   "cell_type": "markdown",
   "metadata": {},
   "source": [
    "* 資料呈現右偏\n",
    "> 由於該模型的目標值為回歸預測類型，因此將採用回歸模型來進行預測\n",
    ">\n",
    "> 在回歸模型中，使用常態分布的資料，才能避免模型在訓練時因資料的 scale 影響到預測結果\n",
    ">\n",
    "> 使用 log 對資料的 線性scale 做轉換，讓資料的 scale 呈現非線性，藉此讓資料呈現常態分佈"
   ]
  },
  {
   "cell_type": "code",
   "execution_count": 10,
   "metadata": {},
   "outputs": [
    {
     "name": "stdout",
     "output_type": "stream",
     "text": [
      "the mu = 12.02 \n",
      " the sigma = 0.40\n"
     ]
    },
    {
     "data": {
      "image/png": "[encoded data removed]",
      "text/plain": [
       "<Figure size 432x288 with 1 Axes>"
      ]
     },
     "metadata": {
      "needs_background": "light"
     },
     "output_type": "display_data"
    }
   ],
   "source": [
    "train['SalePrice'] = np.log1p(train['SalePrice'])\n",
    "sns.distplot(train['SalePrice'],fit=norm)\n",
    "(mu,sigma) = norm.fit(train['SalePrice'])\n",
    "print('the mu = {:.2f} \\n the sigma = {:.2f}'.format(mu,sigma))\n",
    "plt.legend(['Norm distribution( $\\mu$ = {:.2f} , $\\sigma$ = {:.2f})'.format(mu,sigma)],loc='best')\n",
    "plt.ylabel('Frequency')\n",
    "plt.xlabel('SalePrice')\n",
    "plt.title('SalePrice distribution')\n",
    "\n",
    "plt.show()"
   ]
  },
  {
   "cell_type": "markdown",
   "metadata": {},
   "source": [
    "# 特徵工程處理"
   ]
  },
  {
   "cell_type": "markdown",
   "metadata": {},
   "source": [
    "將 train 資料集與 test 資料集進行合併，一起做特徵工程處理"
   ]
  },
  {
   "cell_type": "code",
   "execution_count": 11,
   "metadata": {},
   "outputs": [
    {
     "name": "stdout",
     "output_type": "stream",
     "text": [
      "(2917, 79)\n"
     ]
    }
   ],
   "source": [
    "all_data = pd.concat([train,test],ignore_index=True)\n",
    "ntrain = train.shape[0]\n",
    "ntest = test.shape[0]\n",
    "# 移出目標值 SalePrice\n",
    "y_train = train.SalePrice.values\n",
    "# 移除目標值 SalePrice \n",
    "all_data.drop('SalePrice',1,inplace=True)\n",
    "print(all_data.shape)"
   ]
  },
  {
   "cell_type": "markdown",
   "metadata": {},
   "source": [
    "# 尋找遺失值"
   ]
  },
  {
   "cell_type": "code",
   "execution_count": 12,
   "metadata": {},
   "outputs": [
    {
     "data": {
      "text/plain": [
       "1stFlrSF        0.000\n",
       "2ndFlrSF        0.000\n",
       "3SsnPorch       0.000\n",
       "Alley          93.212\n",
       "BedroomAbvGr    0.000\n",
       "dtype: float64"
      ]
     },
     "execution_count": 12,
     "metadata": {},
     "output_type": "execute_result"
    }
   ],
   "source": [
    "# 列出每個欄位的資料遺失值比例\n",
    "all_data_na = (all_data.isnull().sum() / len(all_data)) *100\n",
    "all_data_na[0:5]"
   ]
  },
  {
   "cell_type": "code",
   "execution_count": 13,
   "metadata": {},
   "outputs": [
    {
     "data": {
      "text/plain": [
       "PoolQC        99.691\n",
       "MiscFeature   96.400\n",
       "Alley         93.212\n",
       "Fence         80.425\n",
       "FireplaceQu   48.680\n",
       "dtype: float64"
      ]
     },
     "execution_count": 13,
     "metadata": {},
     "output_type": "execute_result"
    }
   ],
   "source": [
    "# 移除沒有遺失資料的欄位\n",
    "all_data_na = all_data_na.drop(all_data_na[all_data_na == 0].index).sort_values(ascending=False)\n",
    "all_data_na[0:5]"
   ]
  },
  {
   "cell_type": "code",
   "execution_count": 14,
   "metadata": {},
   "outputs": [
    {
     "name": "stdout",
     "output_type": "stream",
     "text": [
      "              Missing Ratio\n",
      "PoolQC               99.691\n",
      "MiscFeature          96.400\n",
      "Alley                93.212\n",
      "Fence                80.425\n",
      "FireplaceQu          48.680\n",
      "LotFrontage          16.661\n",
      "GarageQual            5.451\n",
      "GarageCond            5.451\n",
      "GarageFinish          5.451\n",
      "GarageYrBlt           5.451\n",
      "GarageType            5.382\n",
      "BsmtExposure          2.811\n",
      "BsmtCond              2.811\n",
      "BsmtQual              2.777\n",
      "BsmtFinType2          2.743\n",
      "BsmtFinType1          2.708\n",
      "MasVnrType            0.823\n",
      "MasVnrArea            0.788\n",
      "MSZoning              0.137\n",
      "BsmtFullBath          0.069\n",
      "BsmtHalfBath          0.069\n",
      "Utilities             0.069\n",
      "Functional            0.069\n",
      "Electrical            0.034\n",
      "BsmtUnfSF             0.034\n",
      "Exterior1st           0.034\n",
      "Exterior2nd           0.034\n",
      "TotalBsmtSF           0.034\n",
      "GarageArea            0.034\n",
      "GarageCars            0.034\n",
      "BsmtFinSF2            0.034\n",
      "BsmtFinSF1            0.034\n",
      "KitchenQual           0.034\n",
      "SaleType              0.034\n"
     ]
    }
   ],
   "source": [
    "missing_data = pd.DataFrame({'Missing Ratio':all_data_na})\n",
    "print(missing_data)"
   ]
  },
  {
   "cell_type": "code",
   "execution_count": 15,
   "metadata": {},
   "outputs": [
    {
     "data": {
      "text/plain": [
       "array(['AllPub', 'NoSeWa', nan], dtype=object)"
      ]
     },
     "execution_count": 15,
     "metadata": {},
     "output_type": "execute_result"
    }
   ],
   "source": [
    "# 列出特定欄位的唯一值\n",
    "all_data['Utilities'].unique()"
   ]
  },
  {
   "cell_type": "code",
   "execution_count": 16,
   "metadata": {},
   "outputs": [
    {
     "data": {
      "text/plain": [
       "AllPub    2914\n",
       "NoSeWa       1\n",
       "Name: Utilities, dtype: int64"
      ]
     },
     "execution_count": 16,
     "metadata": {},
     "output_type": "execute_result"
    }
   ],
   "source": [
    "# 列出特定欄位的唯一值數量\n",
    "all_data['Utilities'].value_counts()"
   ]
  },
  {
   "cell_type": "markdown",
   "metadata": {},
   "source": [
    "# 繪製個欄位遺失值比例圖"
   ]
  },
  {
   "cell_type": "code",
   "execution_count": 17,
   "metadata": {},
   "outputs": [
    {
     "data": {
      "image/png": "[encoded data removed]",
      "text/plain": [
       "<Figure size 432x288 with 1 Axes>"
      ]
     },
     "metadata": {
      "needs_background": "light"
     },
     "output_type": "display_data"
    }
   ],
   "source": [
    "sns.barplot(all_data_na.index,all_data_na.values)\n",
    "plt.xticks(rotation=90)\n",
    "plt.title('data missing percent')\n",
    "plt.show()"
   ]
  },
  {
   "cell_type": "markdown",
   "metadata": {},
   "source": [
    "# 遺失值處理"
   ]
  },
  {
   "cell_type": "markdown",
   "metadata": {},
   "source": [
    "PoolQC: \n",
    "\n",
    "資料遺失率 => 99.691 %\n",
    "\n",
    "欄位含意 => 泳池品質\n",
    "\n",
    "欄位資料類型 => 類別\n",
    "\n",
    "欄位資料內容 => [ Fx, Fa, Gd, NA ]\n",
    "\n",
    "遺失值處理 => 資料內容涵蓋 NA ，故遺失值可補 None 處理，表示該建築無泳池相關設施\n",
    "\n",
    "MiscFeature\n",
    "\n",
    "資料遺失率 => 96.400 %\n",
    "\n",
    "欄位含意 => Miscellaneous feature not covered in other categories (雜項功能未在其他類別中涵蓋)\n",
    "\n",
    "欄位資料類型 => 類別\n",
    "\n",
    "欄位資料內容 => [ Gar2, NA, Othr, Shed, TenC ]\n",
    "\n",
    "遺失值處理 => 資料內容涵蓋 NA ，故遺失值可補 None 處理，表示該建築無雜項相關設施\n",
    "\n",
    "Alley\n",
    "\n",
    "資料遺失率 => 93.212 %\n",
    "\n",
    "欄位含意 => 小巷通道的類型\n",
    "\n",
    "欄位資料類型 => 類別\n",
    "\n",
    "欄位資料內容 => [ Grvl, Pave, NA ]\n",
    "\n",
    "遺失值處理 => 資料內容涵蓋 NA ，故遺失值可補 None 處理，表示該建築無小巷通道相關設施\n",
    "\n",
    "Fence                \n",
    "\n",
    "資料遺失率 => 80.425 %\n",
    "\n",
    "欄位含意 => 柵欄品質\n",
    "\n",
    "欄位資料類型 => 類別\n",
    "\n",
    "欄位資料內容 => [ GdPrv, MnPrv, GdWo, MnWw, NA ]\n",
    "\n",
    "遺失值處理 => 資料內容涵蓋 NA ，故遺失值可補 None 處理，表示該建築無柵欄相關設施\n",
    "\n",
    "FireplaceQu     \n",
    "\n",
    "資料遺失率 => 48.680 %\n",
    "\n",
    "欄位含意 => 壁爐品質\n",
    "\n",
    "欄位資料類型 => 類別\n",
    "\n",
    "欄位資料內容 => [ Ex, Gd, NA, ... ]\n",
    "\n",
    "遺失值處理 => 資料內容涵蓋 NA ，故遺失值可補 None 處理，表示該建築無壁爐相關設施\n",
    "\n",
    "LotFrontage          \n",
    "\n",
    "資料遺失率 => 16.661 %\n",
    "\n",
    "欄位含意 => Linear feet of street connected to property (距離街道的距離)\n",
    "\n",
    "欄位資料類型 => 數字\n",
    "\n",
    "欄位資料內容 => 21~313\n",
    "\n",
    "遺失值處理 => 資料內容為數字，需要與其他特徵進行特徵工程處理，產生新的特徵填補遺失值\n",
    "\n",
    "具有相同里鄰的建築其距離街道的距離也許相似，故將與 Neighborhood 欄位進行特徵工程處理\n",
    "\n",
    "GarageQual            \n",
    "\n",
    "資料遺失率 => 5.451 %\n",
    "\n",
    "欄位含意 => 車庫品質\n",
    "\n",
    "欄位資料類型 => 類別\n",
    "\n",
    "欄位資料內容 => [ Ex, Gd, NA, ... ]\n",
    "\n",
    "遺失值處理 => 資料內容涵蓋 NA ，故遺失值可補 None 處理，表示該建築無車庫相關設施\n",
    "\n",
    "GarageCond            \n",
    "\n",
    "資料遺失率 => 5.451 %\n",
    "\n",
    "欄位含意 => 車庫狀態\n",
    "\n",
    "欄位資料類型 => 類別\n",
    "\n",
    "欄位資料內容 => [ Ex, Gd, NA, ... ]\n",
    "\n",
    "遺失值處理 => 資料內容涵蓋 NA ，故遺失值可補 None 處理，表示該建築無車庫相關設施\n",
    "\n",
    "GarageFinish\n",
    "\n",
    "資料遺失率 => 5.451 %\n",
    "\n",
    "欄位含意 => 車庫裝潢\n",
    "\n",
    "欄位資料類型 => 類別\n",
    "\n",
    "欄位資料內容 => [ Ex, Gd, NA, ... ]\n",
    "\n",
    "遺失值處理 => 資料內容涵蓋 NA ，故遺失值可補 None 處理，表示該建築無車庫相關設施\n",
    "\n",
    "GarageYrBlt           \n",
    "\n",
    "資料遺失率 => 5.451 %\n",
    "\n",
    "欄位含意 => 車庫建立年分\n",
    "\n",
    "欄位資料類型 => 日期\n",
    "\n",
    "欄位資料內容 => 1900~2010\n",
    "\n",
    "遺失值處理 => 以 0 來填補遺失值，表示該建築無車庫相關設施\n",
    "\n",
    "GarageType            \n",
    "\n",
    "資料遺失率 => 5.382 %\n",
    "\n",
    "欄位含意 => 車庫位置\n",
    "\n",
    "欄位資料類型 => 類型\n",
    "\n",
    "欄位資料內容 => [ 2Types, Attchd, NA, ... ]\n",
    "\n",
    "遺失值處理 => 資料內容涵蓋 NA ，故遺失值可補 None 處理，表示該建築無車庫相關設施\n",
    "\n",
    "BsmtExposure          \n",
    "\n",
    "資料遺失率 => 2.811 %\n",
    "\n",
    "欄位含意 => 與花園有關\n",
    "\n",
    "欄位資料類型 => 類型\n",
    "\n",
    "欄位資料內容 => [ Gd, Av, NA, ... ]\n",
    "\n",
    "遺失值處理 => 資料內容涵蓋 NA ，故遺失值可補 None 處理，表示該建築無花園相關設施\n",
    "\n",
    "BsmtCond              \n",
    "\n",
    "資料遺失率 => 2.811 %\n",
    "\n",
    "欄位含意 => 與地下室有關\n",
    "\n",
    "欄位資料類型 => 類型\n",
    "\n",
    "欄位資料內容 => [ Gd, Av, NA, ... ]\n",
    "\n",
    "遺失值處理 => 資料內容涵蓋 NA ，故遺失值可補 None 處理，表示該建築無地下室相關設施\n",
    "\n",
    "BsmtQual              \n",
    "\n",
    "資料遺失率 => 2.777 %\n",
    "\n",
    "欄位含意 => 依據地下室的高度區分等級\n",
    "\n",
    "欄位資料類型 => 類型\n",
    "\n",
    "欄位資料內容 => [ Gd, Ta, NA, ... ]\n",
    "\n",
    "遺失值處理 => 資料內容涵蓋 NA ，故遺失值可補 None 處理，表示該建築無地下室相關設施\n",
    "\n",
    "BsmtFinType2          \n",
    "\n",
    "資料遺失率 => 2.743 %\n",
    "\n",
    "欄位含意 => 依據地下室的面積區分等級\n",
    "\n",
    "欄位資料類型 => 類型\n",
    "\n",
    "欄位資料內容 => [ Gd, Ta, NA, ... ]\n",
    "\n",
    "遺失值處理 => 資料內容涵蓋 NA ，故遺失值可補 None 處理，表示該建築無地下室相關設施\n",
    "\n",
    "BsmtFinType1          \n",
    "\n",
    "資料遺失率 => 2.708 %\n",
    "\n",
    "欄位含意 => 依據地下室的面積區分等級\n",
    "\n",
    "欄位資料類型 => 類型\n",
    "\n",
    "欄位資料內容 => [ Gd, Ta, NA, ... ]\n",
    "\n",
    "遺失值處理 => 資料內容涵蓋 NA ，故遺失值可補 None 處理，表示該建築無地下室相關設施\n",
    "\n",
    "MasVnrType            \n",
    "\n",
    "資料遺失率 => 0.823 %\n",
    "\n",
    "欄位含意 => Masonry veneer type (砌體單板類型)\n",
    "\n",
    "欄位資料類型 => 類型\n",
    "\n",
    "欄位資料內容 => [ BrkCmn, BrkFace, None, Na ]\n",
    "\n",
    "遺失值處理 => 資料內容涵蓋 None、Na ，故遺失值可補 None 處理\n",
    "\n",
    "MasVnrArea            \n",
    "\n",
    "資料遺失率 => 0.788 %\n",
    "\n",
    "欄位含意 => 砌體面積\n",
    "\n",
    "欄位資料類型 => 數字\n",
    "\n",
    "欄位資料內容 => 0~160, Na\n",
    "\n",
    "遺失值處理 => 資料內容涵蓋 Na ，故遺失值可補 0 處理\n",
    "\n",
    "MSZoning              \n",
    "\n",
    "資料遺失率 => 0.137 %\n",
    "\n",
    "欄位含意 => 銷售區分類\n",
    "\n",
    "欄位資料類型 => 類型\n",
    "\n",
    "欄位資料內容 => [ A, C, Fv, ...]\n",
    "\n",
    "遺失值處理 => 資料內容未涵蓋 Na ，故遺失值以最常出現的類型補值 (中位數、眾數)\n",
    "\n",
    "BsmtFullBath          \n",
    "\n",
    "資料遺失率 => 0.069 %\n",
    "\n",
    "欄位含意 => 地下室有無完整的浴室\n",
    "\n",
    "欄位資料類型 => 數字型類別\n",
    "\n",
    "欄位資料內容 => [ 0, 1, 2, 3]\n",
    "\n",
    "遺失值處理 => 資料內容未涵蓋 Na ，故遺失值以 0 補值\n",
    "\n",
    "Electrical\n",
    "\n",
    "資料遺失率 => 0.034 %\n",
    "\n",
    "欄位含意 => 建築電子設備\n",
    "\n",
    "欄位資料類型 => 類別\n",
    "\n",
    "欄位資料內容 => [ SBrkr, FuseF, Na]\n",
    "\n",
    "遺失值處理 => 雖資料內容涵蓋 Na ，但考慮到房屋基本上都有電子設備，故採用中位數補值"
   ]
  },
  {
   "cell_type": "markdown",
   "metadata": {},
   "source": [
    "* 填補 None\n",
    "\n",
    "> ['PoolQC', 'MiscFeature', 'Alley', 'Fence', 'FireplaceQu', 'GarageQual', \n",
    "'GarageCond', 'GarageFinish', 'GarageType', 'BsmtExposure', 'BsmtCond', \n",
    "'BsmtQual', 'BsmtFinType2', 'BsmtFinType1', 'MasVnrType'] \n"
   ]
  },
  {
   "cell_type": "code",
   "execution_count": 18,
   "metadata": {},
   "outputs": [
    {
     "name": "stdout",
     "output_type": "stream",
     "text": [
      "為null的值 0\n"
     ]
    }
   ],
   "source": [
    "var = ['PoolQC', 'MiscFeature', 'Alley', 'Fence', 'FireplaceQu', 'GarageQual', \n",
    "'GarageCond', 'GarageFinish', 'GarageType', 'BsmtExposure', 'BsmtCond', \n",
    "'BsmtQual', 'BsmtFinType2', 'BsmtFinType1', 'MasVnrType'] \n",
    "all_data[var] = all_data[var].fillna('None')\n",
    "print('為null的值',max(all_data[var].isnull().sum()))"
   ]
  },
  {
   "cell_type": "markdown",
   "metadata": {},
   "source": [
    "* 填補 0\n",
    "\n",
    "> ['GarageYrBlt', 'MasVnrArea', 'BsmtFullBath',\n",
    " 'BsmtHalfBath', 'BsmtUnfSF', 'TotalBsmtSF', 'BsmtUnfSF',\n",
    "'TotalBsmtSF', 'GarageArea', 'GarageCars', 'BsmtFinSF2', 'BsmtFinSF1']\n"
   ]
  },
  {
   "cell_type": "code",
   "execution_count": 19,
   "metadata": {},
   "outputs": [
    {
     "name": "stdout",
     "output_type": "stream",
     "text": [
      "為null的值 0\n"
     ]
    }
   ],
   "source": [
    "var = ['GarageYrBlt', 'MasVnrArea', 'BsmtFullBath',\n",
    " 'BsmtHalfBath', 'BsmtUnfSF', 'TotalBsmtSF', 'BsmtUnfSF',\n",
    "'TotalBsmtSF', 'GarageArea', 'GarageCars', 'BsmtFinSF2', 'BsmtFinSF1']\n",
    "all_data[var] = all_data[var].fillna(0)\n",
    "print('為null的值',max(all_data[var].isnull().sum()))"
   ]
  },
  {
   "cell_type": "markdown",
   "metadata": {},
   "source": [
    "* 填補 中位數或眾數\n",
    "\n",
    "> ['MSZoning','Utilities', 'Electrical', 'Exterior1st', \n",
    "'Exterior2nd', 'Exterior1st', 'Exterior2nd', 'KitchenQual', 'SaleType']"
   ]
  },
  {
   "cell_type": "code",
   "execution_count": 20,
   "metadata": {},
   "outputs": [
    {
     "name": "stdout",
     "output_type": "stream",
     "text": [
      "為null的值 0\n"
     ]
    }
   ],
   "source": [
    "var = ['MSZoning','Utilities', 'Electrical', 'Exterior1st', \n",
    "'Exterior2nd', 'Exterior1st', 'Exterior2nd', 'KitchenQual', 'SaleType']\n",
    "for v in var:\n",
    "    all_data[v] = all_data[v].fillna(all_data[v].mode()[0])\n",
    "print('為null的值',max(all_data[var].isnull().sum()))"
   ]
  },
  {
   "cell_type": "markdown",
   "metadata": {},
   "source": [
    "* 填補 特徵工程組合後的新特徵\n",
    "\n",
    "> LotFrontage : groupby(Neighborhood)"
   ]
  },
  {
   "cell_type": "code",
   "execution_count": 21,
   "metadata": {},
   "outputs": [],
   "source": [
    "all_data['LotFrontage'] = all_data.groupby('Neighborhood')['LotFrontage'].transform(lambda x: x.fillna(x.median()))"
   ]
  },
  {
   "cell_type": "markdown",
   "metadata": {},
   "source": [
    "* 填補預設值\n",
    "> Functional 表示房屋功能\n",
    ">\n",
    "> 填補 Typ (典型) 作為預設值"
   ]
  },
  {
   "cell_type": "code",
   "execution_count": 22,
   "metadata": {},
   "outputs": [],
   "source": [
    "all_data[\"Functional\"] = all_data[\"Functional\"].fillna(\"Typ\")"
   ]
  },
  {
   "cell_type": "code",
   "execution_count": 23,
   "metadata": {},
   "outputs": [
    {
     "name": "stdout",
     "output_type": "stream",
     "text": [
      "檢查是否還有剩餘缺失值: 0\n"
     ]
    }
   ],
   "source": [
    "print('檢查是否還有剩餘缺失值:',max(all_data.isnull().sum()))"
   ]
  },
  {
   "cell_type": "markdown",
   "metadata": {},
   "source": [
    "# 特徵組合"
   ]
  },
  {
   "cell_type": "code",
   "execution_count": 24,
   "metadata": {},
   "outputs": [],
   "source": [
    "all_data[\"TotalHouse\"] = all_data[\"TotalBsmtSF\"] + all_data[\"1stFlrSF\"] + all_data[\"2ndFlrSF\"] \n",
    "all_data[\"+_TotalHouse_OverallQual\"] = all_data[\"TotalHouse\"] * all_data[\"OverallQual\"]"
   ]
  },
  {
   "cell_type": "markdown",
   "metadata": {},
   "source": [
    "# 將資料型態為 numerical 但實質含意為 Object 的 Data 轉成 Object"
   ]
  },
  {
   "cell_type": "code",
   "execution_count": 25,
   "metadata": {},
   "outputs": [],
   "source": [
    "#MSSubClass=The building class\n",
    "all_data['MSSubClass'] = all_data['MSSubClass'].apply(str)\n",
    "\n",
    "\n",
    "#Changing OverallCond into a categorical variable\n",
    "all_data['OverallCond'] = all_data['OverallCond'].astype(str)\n",
    "\n",
    "\n",
    "#Year and month sold are transformed into categorical features.\n",
    "all_data['YrSold'] = all_data['YrSold'].astype(str)\n",
    "all_data['MoSold'] = all_data['MoSold'].astype(str)"
   ]
  },
  {
   "cell_type": "markdown",
   "metadata": {},
   "source": [
    "# 區分出類別與數字型態的資料"
   ]
  },
  {
   "cell_type": "code",
   "execution_count": 26,
   "metadata": {},
   "outputs": [
    {
     "name": "stdout",
     "output_type": "stream",
     "text": [
      "34 Numerical Features : ['1stFlrSF', '2ndFlrSF', '3SsnPorch', 'BedroomAbvGr', 'BsmtFinSF1', 'BsmtFinSF2', 'BsmtFullBath', 'BsmtHalfBath', 'BsmtUnfSF', 'EnclosedPorch', 'Fireplaces', 'FullBath', 'GarageArea', 'GarageCars', 'GarageYrBlt', 'GrLivArea', 'HalfBath', 'KitchenAbvGr', 'LotArea', 'LotFrontage', 'LowQualFinSF', 'MasVnrArea', 'MiscVal', 'OpenPorchSF', 'OverallQual', 'PoolArea', 'ScreenPorch', 'TotRmsAbvGrd', 'TotalBsmtSF', 'WoodDeckSF', 'YearBuilt', 'YearRemodAdd', 'TotalHouse', '+_TotalHouse_OverallQual']\n",
      "\n",
      "47 Object Features : ['Alley', 'BldgType', 'BsmtCond', 'BsmtExposure', 'BsmtFinType1', 'BsmtFinType2', 'BsmtQual', 'CentralAir', 'Condition1', 'Condition2', 'Electrical', 'ExterCond', 'ExterQual', 'Exterior1st', 'Exterior2nd', 'Fence', 'FireplaceQu', 'Foundation', 'Functional', 'GarageCond', 'GarageFinish', 'GarageQual', 'GarageType', 'Heating', 'HeatingQC', 'HouseStyle', 'KitchenQual', 'LandContour', 'LandSlope', 'LotConfig', 'LotShape', 'MSSubClass', 'MSZoning', 'MasVnrType', 'MiscFeature', 'MoSold', 'Neighborhood', 'OverallCond', 'PavedDrive', 'PoolQC', 'RoofMatl', 'RoofStyle', 'SaleCondition', 'SaleType', 'Street', 'Utilities', 'YrSold']\n"
     ]
    }
   ],
   "source": [
    "#確定只有 int64, float64, object 三種類型後對欄位名稱執行迴圈, 分別將欄位名稱存於 list 中\n",
    "numerical_features = []\n",
    "object_features = []\n",
    "for dtype, feature in zip(all_data.dtypes, all_data.columns):\n",
    "    if dtype == 'float64' or dtype == 'int64':\n",
    "        numerical_features.append(feature)\n",
    "    else:\n",
    "        object_features.append(feature)\n",
    "print(f'{len(numerical_features)} Numerical Features : {numerical_features}\\n')\n",
    "print(f'{len(object_features)} Object Features : {object_features}')"
   ]
  },
  {
   "cell_type": "markdown",
   "metadata": {},
   "source": [
    "# 對數字型態的資料做正規化處理"
   ]
  },
  {
   "cell_type": "code",
   "execution_count": 27,
   "metadata": {},
   "outputs": [
    {
     "data": {
      "text/html": [
       "<div>\n",
       "<style scoped>\n",
       "    .dataframe tbody tr th:only-of-type {\n",
       "        vertical-align: middle;\n",
       "    }\n",
       "\n",
       "    .dataframe tbody tr th {\n",
       "        vertical-align: top;\n",
       "    }\n",
       "\n",
       "    .dataframe thead th {\n",
       "        text-align: right;\n",
       "    }\n",
       "</style>\n",
       "<table border=\"1\" class=\"dataframe\">\n",
       "  <thead>\n",
       "    <tr style=\"text-align: right;\">\n",
       "      <th></th>\n",
       "      <th>1stFlrSF</th>\n",
       "      <th>2ndFlrSF</th>\n",
       "      <th>3SsnPorch</th>\n",
       "      <th>BedroomAbvGr</th>\n",
       "      <th>BsmtFinSF1</th>\n",
       "      <th>BsmtFinSF2</th>\n",
       "      <th>BsmtFullBath</th>\n",
       "      <th>BsmtHalfBath</th>\n",
       "      <th>BsmtUnfSF</th>\n",
       "      <th>EnclosedPorch</th>\n",
       "      <th>...</th>\n",
       "      <th>OverallQual</th>\n",
       "      <th>PoolArea</th>\n",
       "      <th>ScreenPorch</th>\n",
       "      <th>TotRmsAbvGrd</th>\n",
       "      <th>TotalBsmtSF</th>\n",
       "      <th>WoodDeckSF</th>\n",
       "      <th>YearBuilt</th>\n",
       "      <th>YearRemodAdd</th>\n",
       "      <th>TotalHouse</th>\n",
       "      <th>+_TotalHouse_OverallQual</th>\n",
       "    </tr>\n",
       "  </thead>\n",
       "  <tbody>\n",
       "    <tr>\n",
       "      <th>0</th>\n",
       "      <td>6.753</td>\n",
       "      <td>6.751</td>\n",
       "      <td>0.000</td>\n",
       "      <td>1.386</td>\n",
       "      <td>6.561</td>\n",
       "      <td>0.000</td>\n",
       "      <td>0.693</td>\n",
       "      <td>0.000</td>\n",
       "      <td>5.017</td>\n",
       "      <td>0.000</td>\n",
       "      <td>...</td>\n",
       "      <td>2.079</td>\n",
       "      <td>0.000</td>\n",
       "      <td>0.000</td>\n",
       "      <td>2.197</td>\n",
       "      <td>6.753</td>\n",
       "      <td>0.000</td>\n",
       "      <td>7.603</td>\n",
       "      <td>7.603</td>\n",
       "      <td>7.850</td>\n",
       "      <td>9.796</td>\n",
       "    </tr>\n",
       "    <tr>\n",
       "      <th>1</th>\n",
       "      <td>7.141</td>\n",
       "      <td>0.000</td>\n",
       "      <td>0.000</td>\n",
       "      <td>1.386</td>\n",
       "      <td>6.887</td>\n",
       "      <td>0.000</td>\n",
       "      <td>0.000</td>\n",
       "      <td>0.693</td>\n",
       "      <td>5.652</td>\n",
       "      <td>0.000</td>\n",
       "      <td>...</td>\n",
       "      <td>1.946</td>\n",
       "      <td>0.000</td>\n",
       "      <td>0.000</td>\n",
       "      <td>1.946</td>\n",
       "      <td>7.141</td>\n",
       "      <td>5.700</td>\n",
       "      <td>7.589</td>\n",
       "      <td>7.589</td>\n",
       "      <td>7.834</td>\n",
       "      <td>9.625</td>\n",
       "    </tr>\n",
       "    <tr>\n",
       "      <th>2</th>\n",
       "      <td>6.825</td>\n",
       "      <td>6.765</td>\n",
       "      <td>0.000</td>\n",
       "      <td>1.386</td>\n",
       "      <td>6.188</td>\n",
       "      <td>0.000</td>\n",
       "      <td>0.693</td>\n",
       "      <td>0.000</td>\n",
       "      <td>6.075</td>\n",
       "      <td>0.000</td>\n",
       "      <td>...</td>\n",
       "      <td>2.079</td>\n",
       "      <td>0.000</td>\n",
       "      <td>0.000</td>\n",
       "      <td>1.946</td>\n",
       "      <td>6.825</td>\n",
       "      <td>0.000</td>\n",
       "      <td>7.602</td>\n",
       "      <td>7.602</td>\n",
       "      <td>7.904</td>\n",
       "      <td>9.849</td>\n",
       "    </tr>\n",
       "    <tr>\n",
       "      <th>3</th>\n",
       "      <td>6.869</td>\n",
       "      <td>6.629</td>\n",
       "      <td>0.000</td>\n",
       "      <td>1.386</td>\n",
       "      <td>5.380</td>\n",
       "      <td>0.000</td>\n",
       "      <td>0.693</td>\n",
       "      <td>0.000</td>\n",
       "      <td>6.293</td>\n",
       "      <td>5.609</td>\n",
       "      <td>...</td>\n",
       "      <td>2.079</td>\n",
       "      <td>0.000</td>\n",
       "      <td>0.000</td>\n",
       "      <td>2.079</td>\n",
       "      <td>6.629</td>\n",
       "      <td>0.000</td>\n",
       "      <td>7.558</td>\n",
       "      <td>7.586</td>\n",
       "      <td>7.814</td>\n",
       "      <td>9.759</td>\n",
       "    </tr>\n",
       "    <tr>\n",
       "      <th>4</th>\n",
       "      <td>7.044</td>\n",
       "      <td>6.960</td>\n",
       "      <td>0.000</td>\n",
       "      <td>1.609</td>\n",
       "      <td>6.486</td>\n",
       "      <td>0.000</td>\n",
       "      <td>0.693</td>\n",
       "      <td>0.000</td>\n",
       "      <td>6.196</td>\n",
       "      <td>0.000</td>\n",
       "      <td>...</td>\n",
       "      <td>2.197</td>\n",
       "      <td>0.000</td>\n",
       "      <td>0.000</td>\n",
       "      <td>2.303</td>\n",
       "      <td>7.044</td>\n",
       "      <td>5.263</td>\n",
       "      <td>7.601</td>\n",
       "      <td>7.601</td>\n",
       "      <td>8.115</td>\n",
       "      <td>10.194</td>\n",
       "    </tr>\n",
       "  </tbody>\n",
       "</table>\n",
       "<p>5 rows × 34 columns</p>\n",
       "</div>"
      ],
      "text/plain": [
       "   1stFlrSF  2ndFlrSF  3SsnPorch  BedroomAbvGr  BsmtFinSF1  BsmtFinSF2  \\\n",
       "0     6.753     6.751      0.000         1.386       6.561       0.000   \n",
       "1     7.141     0.000      0.000         1.386       6.887       0.000   \n",
       "2     6.825     6.765      0.000         1.386       6.188       0.000   \n",
       "3     6.869     6.629      0.000         1.386       5.380       0.000   \n",
       "4     7.044     6.960      0.000         1.609       6.486       0.000   \n",
       "\n",
       "   BsmtFullBath  BsmtHalfBath  BsmtUnfSF  EnclosedPorch  \\\n",
       "0         0.693         0.000      5.017          0.000   \n",
       "1         0.000         0.693      5.652          0.000   \n",
       "2         0.693         0.000      6.075          0.000   \n",
       "3         0.693         0.000      6.293          5.609   \n",
       "4         0.693         0.000      6.196          0.000   \n",
       "\n",
       "             ...             OverallQual  PoolArea  ScreenPorch  TotRmsAbvGrd  \\\n",
       "0            ...                   2.079     0.000        0.000         2.197   \n",
       "1            ...                   1.946     0.000        0.000         1.946   \n",
       "2            ...                   2.079     0.000        0.000         1.946   \n",
       "3            ...                   2.079     0.000        0.000         2.079   \n",
       "4            ...                   2.197     0.000        0.000         2.303   \n",
       "\n",
       "   TotalBsmtSF  WoodDeckSF  YearBuilt  YearRemodAdd  TotalHouse  \\\n",
       "0        6.753       0.000      7.603         7.603       7.850   \n",
       "1        7.141       5.700      7.589         7.589       7.834   \n",
       "2        6.825       0.000      7.602         7.602       7.904   \n",
       "3        6.629       0.000      7.558         7.586       7.814   \n",
       "4        7.044       5.263      7.601         7.601       8.115   \n",
       "\n",
       "   +_TotalHouse_OverallQual  \n",
       "0                     9.796  \n",
       "1                     9.625  \n",
       "2                     9.849  \n",
       "3                     9.759  \n",
       "4                    10.194  \n",
       "\n",
       "[5 rows x 34 columns]"
      ]
     },
     "execution_count": 27,
     "metadata": {},
     "output_type": "execute_result"
    }
   ],
   "source": [
    "all_data.loc[:, numerical_features] = np.log1p(all_data.loc[:, numerical_features])\n",
    "all_data[numerical_features].head(5)"
   ]
  },
  {
   "cell_type": "markdown",
   "metadata": {},
   "source": [
    "# 對類別型態的特徵做編碼處理"
   ]
  },
  {
   "cell_type": "markdown",
   "metadata": {},
   "source": [
    "* 將有大小順序及無大小順序的類別分成兩類"
   ]
  },
  {
   "cell_type": "markdown",
   "metadata": {},
   "source": [
    "# 無大小順序的類別"
   ]
  },
  {
   "cell_type": "markdown",
   "metadata": {},
   "source": [
    "* 獨熱編碼處理"
   ]
  },
  {
   "cell_type": "code",
   "execution_count": 28,
   "metadata": {},
   "outputs": [],
   "source": [
    "one_hot_features = ['Alley', 'BldgType', 'CentralAir', 'Condition1', 'Condition2',\n",
    "                    'Electrical', 'Exterior1st', 'Exterior2nd', 'Foundation', 'Functional', 'GarageFinish',\n",
    "                    'GarageType', 'Heating', 'HouseStyle', 'LandContour', 'LandSlope', 'LotConfig', 'LotShape',\n",
    "                    'MSSubClass', 'MSZoning', 'MasVnrType', 'MiscFeature', 'Neighborhood', 'PavedDrive', 'RoofMatl',\n",
    "                    'RoofStyle', 'SaleCondition', 'SaleType', 'Street', 'Utilities']"
   ]
  },
  {
   "cell_type": "code",
   "execution_count": 29,
   "metadata": {},
   "outputs": [],
   "source": [
    "df_one_hot = pd.get_dummies(all_data[one_hot_features])"
   ]
  },
  {
   "cell_type": "code",
   "execution_count": 30,
   "metadata": {},
   "outputs": [],
   "source": [
    "all_data = pd.merge(all_data, df_one_hot,left_index=True,right_index=True)"
   ]
  },
  {
   "cell_type": "code",
   "execution_count": 31,
   "metadata": {},
   "outputs": [],
   "source": [
    "all_data = all_data.drop(columns = one_hot_features)"
   ]
  },
  {
   "cell_type": "code",
   "execution_count": 32,
   "metadata": {},
   "outputs": [
    {
     "data": {
      "text/html": [
       "<div>\n",
       "<style scoped>\n",
       "    .dataframe tbody tr th:only-of-type {\n",
       "        vertical-align: middle;\n",
       "    }\n",
       "\n",
       "    .dataframe tbody tr th {\n",
       "        vertical-align: top;\n",
       "    }\n",
       "\n",
       "    .dataframe thead th {\n",
       "        text-align: right;\n",
       "    }\n",
       "</style>\n",
       "<table border=\"1\" class=\"dataframe\">\n",
       "  <thead>\n",
       "    <tr style=\"text-align: right;\">\n",
       "      <th></th>\n",
       "      <th>1stFlrSF</th>\n",
       "      <th>2ndFlrSF</th>\n",
       "      <th>3SsnPorch</th>\n",
       "      <th>BedroomAbvGr</th>\n",
       "      <th>BsmtCond</th>\n",
       "      <th>BsmtExposure</th>\n",
       "      <th>BsmtFinSF1</th>\n",
       "      <th>BsmtFinSF2</th>\n",
       "      <th>BsmtFinType1</th>\n",
       "      <th>BsmtFinType2</th>\n",
       "      <th>...</th>\n",
       "      <th>SaleType_ConLD</th>\n",
       "      <th>SaleType_ConLI</th>\n",
       "      <th>SaleType_ConLw</th>\n",
       "      <th>SaleType_New</th>\n",
       "      <th>SaleType_Oth</th>\n",
       "      <th>SaleType_WD</th>\n",
       "      <th>Street_Grvl</th>\n",
       "      <th>Street_Pave</th>\n",
       "      <th>Utilities_AllPub</th>\n",
       "      <th>Utilities_NoSeWa</th>\n",
       "    </tr>\n",
       "  </thead>\n",
       "  <tbody>\n",
       "    <tr>\n",
       "      <th>0</th>\n",
       "      <td>6.753</td>\n",
       "      <td>6.751</td>\n",
       "      <td>0.000</td>\n",
       "      <td>1.386</td>\n",
       "      <td>TA</td>\n",
       "      <td>No</td>\n",
       "      <td>6.561</td>\n",
       "      <td>0.000</td>\n",
       "      <td>GLQ</td>\n",
       "      <td>Unf</td>\n",
       "      <td>...</td>\n",
       "      <td>0</td>\n",
       "      <td>0</td>\n",
       "      <td>0</td>\n",
       "      <td>0</td>\n",
       "      <td>0</td>\n",
       "      <td>1</td>\n",
       "      <td>0</td>\n",
       "      <td>1</td>\n",
       "      <td>1</td>\n",
       "      <td>0</td>\n",
       "    </tr>\n",
       "    <tr>\n",
       "      <th>1</th>\n",
       "      <td>7.141</td>\n",
       "      <td>0.000</td>\n",
       "      <td>0.000</td>\n",
       "      <td>1.386</td>\n",
       "      <td>TA</td>\n",
       "      <td>Gd</td>\n",
       "      <td>6.887</td>\n",
       "      <td>0.000</td>\n",
       "      <td>ALQ</td>\n",
       "      <td>Unf</td>\n",
       "      <td>...</td>\n",
       "      <td>0</td>\n",
       "      <td>0</td>\n",
       "      <td>0</td>\n",
       "      <td>0</td>\n",
       "      <td>0</td>\n",
       "      <td>1</td>\n",
       "      <td>0</td>\n",
       "      <td>1</td>\n",
       "      <td>1</td>\n",
       "      <td>0</td>\n",
       "    </tr>\n",
       "    <tr>\n",
       "      <th>2</th>\n",
       "      <td>6.825</td>\n",
       "      <td>6.765</td>\n",
       "      <td>0.000</td>\n",
       "      <td>1.386</td>\n",
       "      <td>TA</td>\n",
       "      <td>Mn</td>\n",
       "      <td>6.188</td>\n",
       "      <td>0.000</td>\n",
       "      <td>GLQ</td>\n",
       "      <td>Unf</td>\n",
       "      <td>...</td>\n",
       "      <td>0</td>\n",
       "      <td>0</td>\n",
       "      <td>0</td>\n",
       "      <td>0</td>\n",
       "      <td>0</td>\n",
       "      <td>1</td>\n",
       "      <td>0</td>\n",
       "      <td>1</td>\n",
       "      <td>1</td>\n",
       "      <td>0</td>\n",
       "    </tr>\n",
       "    <tr>\n",
       "      <th>3</th>\n",
       "      <td>6.869</td>\n",
       "      <td>6.629</td>\n",
       "      <td>0.000</td>\n",
       "      <td>1.386</td>\n",
       "      <td>Gd</td>\n",
       "      <td>No</td>\n",
       "      <td>5.380</td>\n",
       "      <td>0.000</td>\n",
       "      <td>ALQ</td>\n",
       "      <td>Unf</td>\n",
       "      <td>...</td>\n",
       "      <td>0</td>\n",
       "      <td>0</td>\n",
       "      <td>0</td>\n",
       "      <td>0</td>\n",
       "      <td>0</td>\n",
       "      <td>1</td>\n",
       "      <td>0</td>\n",
       "      <td>1</td>\n",
       "      <td>1</td>\n",
       "      <td>0</td>\n",
       "    </tr>\n",
       "    <tr>\n",
       "      <th>4</th>\n",
       "      <td>7.044</td>\n",
       "      <td>6.960</td>\n",
       "      <td>0.000</td>\n",
       "      <td>1.609</td>\n",
       "      <td>TA</td>\n",
       "      <td>Av</td>\n",
       "      <td>6.486</td>\n",
       "      <td>0.000</td>\n",
       "      <td>GLQ</td>\n",
       "      <td>Unf</td>\n",
       "      <td>...</td>\n",
       "      <td>0</td>\n",
       "      <td>0</td>\n",
       "      <td>0</td>\n",
       "      <td>0</td>\n",
       "      <td>0</td>\n",
       "      <td>1</td>\n",
       "      <td>0</td>\n",
       "      <td>1</td>\n",
       "      <td>1</td>\n",
       "      <td>0</td>\n",
       "    </tr>\n",
       "  </tbody>\n",
       "</table>\n",
       "<p>5 rows × 258 columns</p>\n",
       "</div>"
      ],
      "text/plain": [
       "   1stFlrSF  2ndFlrSF  3SsnPorch  BedroomAbvGr BsmtCond BsmtExposure  \\\n",
       "0     6.753     6.751      0.000         1.386       TA           No   \n",
       "1     7.141     0.000      0.000         1.386       TA           Gd   \n",
       "2     6.825     6.765      0.000         1.386       TA           Mn   \n",
       "3     6.869     6.629      0.000         1.386       Gd           No   \n",
       "4     7.044     6.960      0.000         1.609       TA           Av   \n",
       "\n",
       "   BsmtFinSF1  BsmtFinSF2 BsmtFinType1 BsmtFinType2        ...         \\\n",
       "0       6.561       0.000          GLQ          Unf        ...          \n",
       "1       6.887       0.000          ALQ          Unf        ...          \n",
       "2       6.188       0.000          GLQ          Unf        ...          \n",
       "3       5.380       0.000          ALQ          Unf        ...          \n",
       "4       6.486       0.000          GLQ          Unf        ...          \n",
       "\n",
       "   SaleType_ConLD  SaleType_ConLI SaleType_ConLw  SaleType_New  SaleType_Oth  \\\n",
       "0               0               0              0             0             0   \n",
       "1               0               0              0             0             0   \n",
       "2               0               0              0             0             0   \n",
       "3               0               0              0             0             0   \n",
       "4               0               0              0             0             0   \n",
       "\n",
       "  SaleType_WD Street_Grvl Street_Pave Utilities_AllPub  Utilities_NoSeWa  \n",
       "0           1           0           1                1                 0  \n",
       "1           1           0           1                1                 0  \n",
       "2           1           0           1                1                 0  \n",
       "3           1           0           1                1                 0  \n",
       "4           1           0           1                1                 0  \n",
       "\n",
       "[5 rows x 258 columns]"
      ]
     },
     "execution_count": 32,
     "metadata": {},
     "output_type": "execute_result"
    }
   ],
   "source": [
    "all_data.head(5)"
   ]
  },
  {
   "cell_type": "markdown",
   "metadata": {},
   "source": [
    "# 有大小順序的類別"
   ]
  },
  {
   "cell_type": "markdown",
   "metadata": {},
   "source": [
    "* 當目標值是數字時，LabelEncoder()會依據數字大小給予相對的大小順序"
   ]
  },
  {
   "cell_type": "code",
   "execution_count": 33,
   "metadata": {},
   "outputs": [],
   "source": [
    "lb_make = LabelEncoder()\n",
    "all_data['MoSold'] = lb_make.fit_transform(all_data['MoSold'].values)"
   ]
  },
  {
   "cell_type": "code",
   "execution_count": 34,
   "metadata": {},
   "outputs": [],
   "source": [
    "lb_make = LabelEncoder()\n",
    "all_data['YrSold'] = lb_make.fit_transform(all_data['YrSold'].values)"
   ]
  },
  {
   "cell_type": "markdown",
   "metadata": {},
   "source": [
    "* 當目標值是字串時，LabelEncoder()會依據字串長度給予相對的大小順序，但這並符合實際情形，因此需要自定義"
   ]
  },
  {
   "cell_type": "code",
   "execution_count": 35,
   "metadata": {},
   "outputs": [],
   "source": [
    "mapper = {'Ex': 5, 'Gd': 4, 'TA': 3, 'Fa': 2, 'Po': 1, 'None': 0}\n",
    "all_data['BsmtCond']=all_data['BsmtCond'].map(mapper)"
   ]
  },
  {
   "cell_type": "code",
   "execution_count": 36,
   "metadata": {},
   "outputs": [],
   "source": [
    "mapper = {'Gd': 4, 'Av': 3, 'Mn': 2, 'No': 1, 'None': 0}\n",
    "all_data['BsmtExposure']=all_data['BsmtExposure'].map(mapper)"
   ]
  },
  {
   "cell_type": "code",
   "execution_count": 37,
   "metadata": {},
   "outputs": [],
   "source": [
    "mapper = {'GLQ': 5, 'ALQ': 5, 'BLQ': 4, 'Rec': 3, 'LwQ': 2, 'Unf': 1, 'None': 0}\n",
    "all_data['BsmtFinType1']=all_data['BsmtFinType1'].map(mapper)"
   ]
  },
  {
   "cell_type": "code",
   "execution_count": 38,
   "metadata": {},
   "outputs": [],
   "source": [
    "mapper = {'GLQ': 5, 'ALQ': 5, 'BLQ': 4, 'Rec': 3, 'LwQ': 2, 'Unf': 1, 'None': 0}\n",
    "all_data['BsmtFinType2']=all_data['BsmtFinType2'].map(mapper)"
   ]
  },
  {
   "cell_type": "code",
   "execution_count": 39,
   "metadata": {},
   "outputs": [],
   "source": [
    "mapper = {'Ex': 5, 'Gd': 4, 'TA': 3, 'Fa': 2, 'Po': 1, 'None': 0}\n",
    "all_data['BsmtQual']=all_data['BsmtQual'].map(mapper)"
   ]
  },
  {
   "cell_type": "code",
   "execution_count": 40,
   "metadata": {},
   "outputs": [],
   "source": [
    "mapper = {'Ex': 4, 'Gd': 3, 'TA': 2, 'Fa': 1, 'Po': 0}\n",
    "all_data['ExterCond']=all_data['ExterCond'].map(mapper)"
   ]
  },
  {
   "cell_type": "code",
   "execution_count": 41,
   "metadata": {},
   "outputs": [],
   "source": [
    "mapper = {'Ex': 4, 'Gd': 3, 'TA': 2, 'Fa': 1, 'Po': 0}\n",
    "all_data['ExterQual']=all_data['ExterQual'].map(mapper)"
   ]
  },
  {
   "cell_type": "code",
   "execution_count": 42,
   "metadata": {},
   "outputs": [],
   "source": [
    "mapper = {'GdPrv': 4, 'MnPrv': 3, 'GdWo': 2, 'MnWw': 1, 'None': 0}\n",
    "all_data['Fence']=all_data['Fence'].map(mapper)"
   ]
  },
  {
   "cell_type": "code",
   "execution_count": 43,
   "metadata": {},
   "outputs": [],
   "source": [
    "mapper = {'Ex': 5, 'Gd': 4, 'TA': 3, 'Fa': 2, 'Po': 1, 'None': 0}\n",
    "all_data['FireplaceQu']=all_data['FireplaceQu'].map(mapper)"
   ]
  },
  {
   "cell_type": "code",
   "execution_count": 44,
   "metadata": {},
   "outputs": [],
   "source": [
    "mapper = {'Ex': 5, 'Gd': 4, 'TA': 3, 'Fa': 2, 'Po': 1, 'None': 0}\n",
    "all_data['GarageCond']=all_data['GarageCond'].map(mapper)"
   ]
  },
  {
   "cell_type": "code",
   "execution_count": 45,
   "metadata": {},
   "outputs": [],
   "source": [
    "mapper = {'Ex': 5, 'Gd': 4, 'TA': 3, 'Fa': 2, 'Po': 1, 'None': 0}\n",
    "all_data['GarageQual']=all_data['GarageQual'].map(mapper)"
   ]
  },
  {
   "cell_type": "code",
   "execution_count": 46,
   "metadata": {},
   "outputs": [],
   "source": [
    "mapper = {'Ex': 4, 'Gd': 3, 'TA': 2, 'Fa': 1, 'Po': 0}\n",
    "all_data['HeatingQC']=all_data['HeatingQC'].map(mapper)"
   ]
  },
  {
   "cell_type": "code",
   "execution_count": 47,
   "metadata": {},
   "outputs": [],
   "source": [
    "mapper = {'Ex': 4, 'Gd': 3, 'TA': 2, 'Fa': 1, 'Po': 0}\n",
    "all_data['KitchenQual']=all_data['KitchenQual'].map(mapper)"
   ]
  },
  {
   "cell_type": "code",
   "execution_count": 48,
   "metadata": {},
   "outputs": [],
   "source": [
    "mapper = {'Ex': 4, 'Gd': 3, 'TA': 2, 'Fa': 1, 'None': 0}\n",
    "all_data['PoolQC']=all_data['PoolQC'].map(mapper)"
   ]
  },
  {
   "cell_type": "markdown",
   "metadata": {},
   "source": [
    "# 將原先合併起來一起做特徵工程處理的 train set 與 test set 拆解還原"
   ]
  },
  {
   "cell_type": "code",
   "execution_count": 49,
   "metadata": {},
   "outputs": [
    {
     "name": "stdout",
     "output_type": "stream",
     "text": [
      "all_data.shape =  (2917, 258)\n"
     ]
    }
   ],
   "source": [
    "print('all_data.shape = ',all_data.shape)"
   ]
  },
  {
   "cell_type": "code",
   "execution_count": 50,
   "metadata": {},
   "outputs": [
    {
     "name": "stdout",
     "output_type": "stream",
     "text": [
      "y_train.shape =  (1458,)\n"
     ]
    }
   ],
   "source": [
    "print('y_train.shape = ',y_train.shape)"
   ]
  },
  {
   "cell_type": "code",
   "execution_count": 51,
   "metadata": {},
   "outputs": [
    {
     "name": "stdout",
     "output_type": "stream",
     "text": [
      "ntrain count =  1458\n"
     ]
    }
   ],
   "source": [
    "print('ntrain count = ',ntrain)"
   ]
  },
  {
   "cell_type": "code",
   "execution_count": 52,
   "metadata": {},
   "outputs": [
    {
     "name": "stdout",
     "output_type": "stream",
     "text": [
      "ntest count =  1459\n"
     ]
    }
   ],
   "source": [
    "print('ntest count = ',ntest)"
   ]
  },
  {
   "cell_type": "code",
   "execution_count": 53,
   "metadata": {},
   "outputs": [
    {
     "name": "stdout",
     "output_type": "stream",
     "text": [
      "ntest + ntrain =  2917\n"
     ]
    }
   ],
   "source": [
    "# all_data.shape = 2917\n",
    "# 1458 + 1459 = 2917\n",
    "print('ntest + ntrain = ', ntrain+ntest)"
   ]
  },
  {
   "cell_type": "code",
   "execution_count": 54,
   "metadata": {},
   "outputs": [
    {
     "name": "stdout",
     "output_type": "stream",
     "text": [
      "train_data.shape =  (1458, 258)\n",
      "test_data.shape =  (1459, 258)\n"
     ]
    }
   ],
   "source": [
    "train_data = all_data[0:ntrain]\n",
    "test_data = all_data[ntrain:]\n",
    "print('train_data.shape = ',train_data.shape)\n",
    "print('test_data.shape = ', test_data.shape)"
   ]
  },
  {
   "cell_type": "markdown",
   "metadata": {},
   "source": [
    "# 建立模型"
   ]
  },
  {
   "cell_type": "code",
   "execution_count": 55,
   "metadata": {},
   "outputs": [],
   "source": [
    "from sklearn.linear_model import ElasticNet, Lasso,  BayesianRidge, LassoLarsIC\n",
    "from sklearn.ensemble import RandomForestRegressor,  GradientBoostingRegressor\n",
    "from sklearn.kernel_ridge import KernelRidge\n",
    "from sklearn.linear_model import Ridge\n",
    "from sklearn.svm import SVR\n",
    "from sklearn.pipeline import make_pipeline\n",
    "from sklearn.preprocessing import RobustScaler\n",
    "from sklearn.base import BaseEstimator, TransformerMixin, RegressorMixin, clone\n",
    "from sklearn.model_selection import KFold, cross_val_score, train_test_split\n",
    "from sklearn.metrics import mean_squared_error\n",
    "import xgboost as xgb\n",
    "from sklearn.model_selection import GridSearchCV"
   ]
  },
  {
   "cell_type": "markdown",
   "metadata": {},
   "source": [
    "## 透過交叉驗證計算損失函數，可有效避免 Overfitting 問題"
   ]
  },
  {
   "cell_type": "code",
   "execution_count": 56,
   "metadata": {},
   "outputs": [],
   "source": [
    "# 交叉驗證\n",
    "n_folds = 5\n",
    "def rmsle_cv(model, train, y_train):\n",
    "    # kf = KFold(n_folds, shuffle=True, random_state=42).get_n_splits(train.values)\n",
    "    # rmse = np.sqrt(-cross_val_score(model, train.values, y_train, scoring='neg_mean_squared_error',cv=kf))\n",
    "    rmse = np.sqrt(-cross_val_score(model, train.values, y_train, scoring='neg_mean_squared_error',cv=n_folds))\n",
    "    return rmse"
   ]
  },
  {
   "cell_type": "markdown",
   "metadata": {},
   "source": [
    "## 透過交叉驗證進行 grid_search ，可有效避免 Overfitting 問題"
   ]
  },
  {
   "cell_type": "code",
   "execution_count": 57,
   "metadata": {},
   "outputs": [],
   "source": [
    "def grid_search(estimator, param_grid, X, y):\n",
    "    ## 建立搜尋物件，放入模型及參數組合字典 (n_jobs=-1 會使用全部 cpu 平行運算)\n",
    "    grid_search = GridSearchCV(estimator = estimator, param_grid = param_grid, scoring=\"neg_mean_squared_error\", n_jobs=-1, verbose=1)\n",
    "    grid_result = grid_search.fit(X, y)\n",
    "    print(\"Best Accuracy: %f using %s\" % (np.sqrt((-1)*grid_result.best_score_), grid_result.best_params_))\n",
    "    return grid_result.best_params_"
   ]
  },
  {
   "cell_type": "markdown",
   "metadata": {},
   "source": [
    "* lasso"
   ]
  },
  {
   "cell_type": "code",
   "execution_count": 58,
   "metadata": {},
   "outputs": [
    {
     "name": "stdout",
     "output_type": "stream",
     "text": [
      "\n",
      "Lasso score: 0.3995 (0.0158)\n",
      "\n"
     ]
    }
   ],
   "source": [
    "lasso = Lasso()\n",
    "score = rmsle_cv(lasso, train_data, y_train)\n",
    "print(\"\\nLasso score: {:.4f} ({:.4f})\\n\".format(score.mean(), score.std()))"
   ]
  },
  {
   "cell_type": "code",
   "execution_count": 59,
   "metadata": {},
   "outputs": [
    {
     "name": "stdout",
     "output_type": "stream",
     "text": [
      "Fitting 3 folds for each of 9 candidates, totalling 27 fits\n"
     ]
    },
    {
     "name": "stderr",
     "output_type": "stream",
     "text": [
      "[Parallel(n_jobs=-1)]: Using backend LokyBackend with 4 concurrent workers.\n"
     ]
    },
    {
     "name": "stdout",
     "output_type": "stream",
     "text": [
      "Best Accuracy: 0.117133 using {'alpha': 0.0004, 'max_iter': 2000}\n"
     ]
    },
    {
     "name": "stderr",
     "output_type": "stream",
     "text": [
      "[Parallel(n_jobs=-1)]: Done  27 out of  27 | elapsed:    2.2s finished\n"
     ]
    }
   ],
   "source": [
    "lasso = Lasso()\n",
    "\n",
    "# 設定要訓練的超參數組合\n",
    "alpha = [0.0003, 0.0004, 0.0005]\n",
    "max_iter = [2000, 5000, 10000]\n",
    "param_grid = dict(alpha=alpha, max_iter=max_iter)\n",
    "\n",
    "best_params = grid_search(lasso, param_grid, train_data, y_train)"
   ]
  },
  {
   "cell_type": "code",
   "execution_count": 60,
   "metadata": {},
   "outputs": [
    {
     "name": "stdout",
     "output_type": "stream",
     "text": [
      "\n",
      "Lasso score: 0.1158 (0.0060)\n",
      "\n"
     ]
    }
   ],
   "source": [
    "# 使用最佳參數重新建立模型\n",
    "lasso = Lasso(alpha = best_params['alpha'], \n",
    "              max_iter = best_params['max_iter'])\n",
    "score = rmsle_cv(lasso, train_data, y_train)\n",
    "print(\"\\nLasso score: {:.4f} ({:.4f})\\n\".format(score.mean(), score.std()))"
   ]
  },
  {
   "cell_type": "markdown",
   "metadata": {},
   "source": [
    "* ElasticNet()"
   ]
  },
  {
   "cell_type": "code",
   "execution_count": 61,
   "metadata": {},
   "outputs": [
    {
     "name": "stdout",
     "output_type": "stream",
     "text": [
      "\n",
      "ENet score: 0.3995 (0.0158)\n",
      "\n"
     ]
    }
   ],
   "source": [
    "ENet = ElasticNet()\n",
    "score = rmsle_cv(ENet, train_data, y_train)\n",
    "print(\"\\nENet score: {:.4f} ({:.4f})\\n\".format(score.mean(), score.std()))"
   ]
  },
  {
   "cell_type": "code",
   "execution_count": 62,
   "metadata": {},
   "outputs": [
    {
     "name": "stdout",
     "output_type": "stream",
     "text": [
      "Fitting 3 folds for each of 9 candidates, totalling 27 fits\n"
     ]
    },
    {
     "name": "stderr",
     "output_type": "stream",
     "text": [
      "[Parallel(n_jobs=-1)]: Using backend LokyBackend with 4 concurrent workers.\n",
      "[Parallel(n_jobs=-1)]: Done  20 out of  27 | elapsed:    0.7s remaining:    0.2s\n",
      "[Parallel(n_jobs=-1)]: Done  27 out of  27 | elapsed:    0.9s finished\n"
     ]
    },
    {
     "name": "stdout",
     "output_type": "stream",
     "text": [
      "Best Accuracy: 0.117151 using {'alpha': 0.0005, 'l1_ratio': 0.9}\n"
     ]
    }
   ],
   "source": [
    "ENet = ElasticNet()\n",
    "\n",
    "# 設定要訓練的超參數組合\n",
    "alpha = [0.0003, 0.0004, 0.0005]\n",
    "l1_ratio = [0.5, 0.7, 0.9]\n",
    "param_grid = dict(alpha= alpha, l1_ratio= l1_ratio)\n",
    "\n",
    "best_params = grid_search(ENet, param_grid, train_data, y_train)"
   ]
  },
  {
   "cell_type": "code",
   "execution_count": 63,
   "metadata": {},
   "outputs": [
    {
     "name": "stdout",
     "output_type": "stream",
     "text": [
      "\n",
      "ENet score: 0.1158 (0.0060)\n",
      "\n"
     ]
    }
   ],
   "source": [
    "# 使用最佳參數重新建立模型\n",
    "ENet = ElasticNet(alpha = best_params['alpha'], \n",
    "              l1_ratio = best_params['l1_ratio'])\n",
    "score = rmsle_cv(ENet, train_data, y_train)\n",
    "print(\"\\nENet score: {:.4f} ({:.4f})\\n\".format(score.mean(), score.std()))"
   ]
  },
  {
   "cell_type": "markdown",
   "metadata": {},
   "source": [
    "* KernelRidge()"
   ]
  },
  {
   "cell_type": "code",
   "execution_count": 64,
   "metadata": {},
   "outputs": [
    {
     "name": "stdout",
     "output_type": "stream",
     "text": [
      "\n",
      "kRR score: 0.1219 (0.0066)\n",
      "\n"
     ]
    }
   ],
   "source": [
    "kRR = KernelRidge()\n",
    "score = rmsle_cv(kRR, train_data, y_train)\n",
    "print(\"\\nkRR score: {:.4f} ({:.4f})\\n\".format(score.mean(), score.std()))"
   ]
  },
  {
   "cell_type": "code",
   "execution_count": 65,
   "metadata": {},
   "outputs": [
    {
     "name": "stdout",
     "output_type": "stream",
     "text": [
      "Fitting 3 folds for each of 27 candidates, totalling 81 fits\n"
     ]
    },
    {
     "name": "stderr",
     "output_type": "stream",
     "text": [
      "[Parallel(n_jobs=-1)]: Using backend LokyBackend with 4 concurrent workers.\n",
      "[Parallel(n_jobs=-1)]: Done  74 out of  81 | elapsed:    3.1s remaining:    0.2s\n"
     ]
    },
    {
     "name": "stdout",
     "output_type": "stream",
     "text": [
      "Best Accuracy: 0.120688 using {'alpha': 0.2, 'coef0': 0.8, 'degree': 2, 'kernel': 'polynomial'}\n"
     ]
    },
    {
     "name": "stderr",
     "output_type": "stream",
     "text": [
      "[Parallel(n_jobs=-1)]: Done  81 out of  81 | elapsed:    3.4s finished\n"
     ]
    }
   ],
   "source": [
    "kRR = KernelRidge()\n",
    "\n",
    "# 設定要訓練的超參數組合\n",
    "alpha = [0.1, 0.2, 0.3]\n",
    "kernel = ['polynomial']\n",
    "degree = [2, 3, 4]\n",
    "coef0 = [0.4, 0.6, 0.8]\n",
    "\n",
    "param_grid = dict(alpha= alpha, kernel= kernel, degree= degree, coef0= coef0)\n",
    "\n",
    "best_params = grid_search(kRR, param_grid, train_data, y_train)"
   ]
  },
  {
   "cell_type": "code",
   "execution_count": 66,
   "metadata": {},
   "outputs": [
    {
     "name": "stdout",
     "output_type": "stream",
     "text": [
      "\n",
      "ENet score: 0.1202 (0.0077)\n",
      "\n"
     ]
    }
   ],
   "source": [
    "# 使用最佳參數重新建立模型\n",
    "kRR = KernelRidge(alpha = best_params['alpha'], kernel = best_params['kernel'], \n",
    "                  degree = best_params['degree'], coef0 = best_params['coef0'])\n",
    "score = rmsle_cv(kRR, train_data, y_train)\n",
    "print(\"\\nENet score: {:.4f} ({:.4f})\\n\".format(score.mean(), score.std()))"
   ]
  },
  {
   "cell_type": "markdown",
   "metadata": {},
   "source": [
    "* GradientBoostingRegressor()"
   ]
  },
  {
   "cell_type": "code",
   "execution_count": 67,
   "metadata": {},
   "outputs": [
    {
     "name": "stdout",
     "output_type": "stream",
     "text": [
      "\n",
      "GBoost score: 0.1161 (0.0072)\n",
      "\n"
     ]
    }
   ],
   "source": [
    "GBoost = GradientBoostingRegressor(n_estimators=3000, learning_rate=0.05,\n",
    "                                   max_depth=4, max_features='sqrt',\n",
    "                                   min_samples_leaf=15, min_samples_split=10,\n",
    "                                   loss='huber', random_state =5)\n",
    "score = rmsle_cv(GBoost, train_data, y_train)\n",
    "print(\"\\nGBoost score: {:.4f} ({:.4f})\\n\".format(score.mean(), score.std()))"
   ]
  },
  {
   "cell_type": "markdown",
   "metadata": {},
   "source": [
    "* XGBRegressor"
   ]
  },
  {
   "cell_type": "code",
   "execution_count": 68,
   "metadata": {},
   "outputs": [
    {
     "name": "stdout",
     "output_type": "stream",
     "text": [
      "\n",
      "model_xgb: 0.1154 (0.0063)\n",
      "\n"
     ]
    }
   ],
   "source": [
    "model_xgb = xgb.XGBRegressor(colsample_bytree=0.4603, gamma=0.0468, \n",
    "                             learning_rate=0.05, max_depth=3, \n",
    "                             min_child_weight=1.7817, n_estimators=2200,\n",
    "                             reg_alpha=0.4640, reg_lambda=0.8571,\n",
    "                             subsample=0.5213, silent=1,\n",
    "                             random_state =7, nthread = -1)\n",
    "score = rmsle_cv(model_xgb, train_data, y_train)\n",
    "print(\"\\nmodel_xgb: {:.4f} ({:.4f})\\n\".format(score.mean(), score.std()))"
   ]
  },
  {
   "cell_type": "markdown",
   "metadata": {},
   "source": [
    "# 整合學習 - StackingCVRegressor"
   ]
  },
  {
   "cell_type": "markdown",
   "metadata": {},
   "source": [
    "* 透過 CV 交叉驗證的方式，可有效減少 Overfitting 問題， 預設值為 5 。"
   ]
  },
  {
   "cell_type": "code",
   "execution_count": 69,
   "metadata": {},
   "outputs": [],
   "source": [
    "from mlxtend.regressor import StackingCVRegressor"
   ]
  },
  {
   "cell_type": "code",
   "execution_count": 70,
   "metadata": {},
   "outputs": [],
   "source": [
    "RANDOM_SEED = 42\n",
    "np.random.seed(RANDOM_SEED)"
   ]
  },
  {
   "cell_type": "code",
   "execution_count": 71,
   "metadata": {},
   "outputs": [],
   "source": [
    "stacking_clf = StackingCVRegressor(regressors=[ENet, kRR, GBoost, model_xgb],\n",
    "                                   meta_regressor=lasso, \n",
    "                                   use_features_in_secondary=True)"
   ]
  },
  {
   "cell_type": "code",
   "execution_count": 72,
   "metadata": {},
   "outputs": [
    {
     "name": "stdout",
     "output_type": "stream",
     "text": [
      "\n",
      "stacking_clf score: 0.1101 (0.0062)\n",
      "\n"
     ]
    }
   ],
   "source": [
    "score = rmsle_cv(stacking_clf, train_data, y_train)\n",
    "print(\"\\nstacking_clf score: {:.4f} ({:.4f})\\n\".format(score.mean(), score.std()))"
   ]
  },
  {
   "cell_type": "code",
   "execution_count": 73,
   "metadata": {},
   "outputs": [
    {
     "data": {
      "text/plain": [
       "StackingCVRegressor(cv=5,\n",
       "          meta_regressor=Lasso(alpha=0.0004, copy_X=True, fit_intercept=True, max_iter=2000,\n",
       "   normalize=False, positive=False, precompute=False, random_state=None,\n",
       "   selection='cyclic', tol=0.0001, warm_start=False),\n",
       "          refit=True,\n",
       "          regressors=[ElasticNet(alpha=0.0005, copy_X=True, fit_intercept=True, l1_ratio=0.9,\n",
       "      max_iter=1000, normalize=False, positive=False, precompute=False,\n",
       "      random_state=None, selection='cyclic', tol=0.0001, warm_start=False), KernelRidge(alpha=0.2, coef0=0.8, degree=2, gamma=None, kernel='poly...=0.464,\n",
       "       reg_lambda=0.8571, scale_pos_weight=1, seed=None, silent=1,\n",
       "       subsample=0.5213)],\n",
       "          shuffle=True, store_train_meta_features=False,\n",
       "          use_features_in_secondary=True)"
      ]
     },
     "execution_count": 73,
     "metadata": {},
     "output_type": "execute_result"
    }
   ],
   "source": [
    "stacking_clf.fit(train_data.values, y_train)"
   ]
  },
  {
   "cell_type": "code",
   "execution_count": 74,
   "metadata": {},
   "outputs": [
    {
     "name": "stdout",
     "output_type": "stream",
     "text": [
      "Stacking Score: 0.9682448765422658\n"
     ]
    }
   ],
   "source": [
    "print('Stacking Score:',stacking_clf.score(train_data.values, y_train))"
   ]
  },
  {
   "cell_type": "code",
   "execution_count": 75,
   "metadata": {},
   "outputs": [],
   "source": [
    "stacked_pred = np.expm1(stacking_clf.predict(test_data.values))"
   ]
  },
  {
   "cell_type": "code",
   "execution_count": 76,
   "metadata": {},
   "outputs": [],
   "source": [
    "result=pd.DataFrame({'Id':test_ID, 'SalePrice':stacked_pred})\n",
    "result.to_csv(\"submission_StackingCVRegressor.csv\",index=False)"
   ]
  }
 ],
 "metadata": {
  "kernelspec": {
   "display_name": "Python 3",
   "language": "python",
   "name": "python3"
  },
  "language_info": {
   "codemirror_mode": {
    "name": "ipython",
    "version": 3
   },
   "file_extension": ".py",
   "mimetype": "text/x-python",
   "name": "python",
   "nbconvert_exporter": "python",
   "pygments_lexer": "ipython3",
   "version": "3.7.0"
  }
 },
 "nbformat": 4,
 "nbformat_minor": 2
}
